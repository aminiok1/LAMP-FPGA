{
 "cells": [
  {
   "cell_type": "markdown",
   "metadata": {},
   "source": [
    "# LAMP DPU\n"
   ]
  },
  {
   "cell_type": "code",
   "execution_count": 1,
   "metadata": {},
   "outputs": [
    {
     "data": {
      "application/javascript": [
       "\n",
       "try {\n",
       "require(['notebook/js/codecell'], function(codecell) {\n",
       "  codecell.CodeCell.options_default.highlight_modes[\n",
       "      'magic_text/x-csrc'] = {'reg':[/^%%pybind11/]};\n",
       "  Jupyter.notebook.events.one('kernel_ready.Kernel', function(){\n",
       "      Jupyter.notebook.get_cells().map(function(cell){\n",
       "          if (cell.cell_type == 'code'){ cell.auto_highlight(); } }) ;\n",
       "  });\n",
       "});\n",
       "} catch (e) {};\n"
      ]
     },
     "metadata": {},
     "output_type": "display_data"
    },
    {
     "data": {
      "application/javascript": [
       "\n",
       "try {\n",
       "require(['notebook/js/codecell'], function(codecell) {\n",
       "  codecell.CodeCell.options_default.highlight_modes[\n",
       "      'magic_text/x-csrc'] = {'reg':[/^%%microblaze/]};\n",
       "  Jupyter.notebook.events.one('kernel_ready.Kernel', function(){\n",
       "      Jupyter.notebook.get_cells().map(function(cell){\n",
       "          if (cell.cell_type == 'code'){ cell.auto_highlight(); } }) ;\n",
       "  });\n",
       "});\n",
       "} catch (e) {};\n"
      ]
     },
     "metadata": {},
     "output_type": "display_data"
    },
    {
     "data": {
      "text/plain": [
       "\"\\nClocks.fclk0_mhz = 50.0\\nClocks.fclk1_mhz = 50.0\\nClocks.fclk2_mhz = 50.0\\nClocks.fclk3_mhz = 50.0\\n\\nprint(f'CPU:   {Clocks.cpu_mhz:.6f}MHz')\\nprint(f'FCLK0: {Clocks.fclk0_mhz:.6f}MHz')\\nprint(f'FCLK1: {Clocks.fclk1_mhz:.6f}MHz')\\nprint(f'FCLK2: {Clocks.fclk2_mhz:.6f}MHz')\\nprint(f'FCLK3: {Clocks.fclk3_mhz:.6f}MHz')\\n\""
      ]
     },
     "execution_count": 1,
     "metadata": {},
     "output_type": "execute_result"
    }
   ],
   "source": [
    "from pynq_dpu import DpuOverlay\n",
    "import numpy as np\n",
    "import random\n",
    "import cv2\n",
    "import colorsys\n",
    "from PIL import Image\n",
    "from matplotlib.patches import Rectangle\n",
    "import matplotlib.pyplot as plt\n",
    "%matplotlib inline\n",
    "from pynq_dpu.edge.dnndk.tf_yolov3_voc_py.tf_yolov3_voc import *\n",
    "\n",
    "from MPTimeSeriesGenerator import MPTimeseriesGenerator\n",
    "import scipy.io as sio\n",
    "import numpy as np\n",
    "from pynq import Clocks\n",
    "import threading\n",
    "\n",
    "'''\n",
    "Clocks.fclk0_mhz = 50.0\n",
    "Clocks.fclk1_mhz = 50.0\n",
    "Clocks.fclk2_mhz = 50.0\n",
    "Clocks.fclk3_mhz = 50.0\n",
    "\n",
    "print(f'CPU:   {Clocks.cpu_mhz:.6f}MHz')\n",
    "print(f'FCLK0: {Clocks.fclk0_mhz:.6f}MHz')\n",
    "print(f'FCLK1: {Clocks.fclk1_mhz:.6f}MHz')\n",
    "print(f'FCLK2: {Clocks.fclk2_mhz:.6f}MHz')\n",
    "print(f'FCLK3: {Clocks.fclk3_mhz:.6f}MHz')\n",
    "'''"
   ]
  },
  {
   "cell_type": "code",
   "execution_count": 2,
   "metadata": {},
   "outputs": [],
   "source": [
    "#loads the bit file and the model and creates kernel and task\n",
    "\n",
    "overlay = DpuOverlay(\"dpu.bit\")\n",
    "overlay.load_model(\"dpu_lamp_0.elf\")\n",
    "\n",
    "n2cube.dpuOpen()\n",
    "kernel = n2cube.dpuLoadKernel(\"lamp_0\")\n",
    "# uncomment for multithread\n",
    "#kernel2 = n2cube.dpuLoadKernel(\"lamp_0\")\n",
    "task = n2cube.dpuCreateTask(kernel, 0)"
   ]
  },
  {
   "cell_type": "code",
   "execution_count": 3,
   "metadata": {},
   "outputs": [],
   "source": [
    "# prepare the input data\n",
    "\n",
    "matrix_profile_window = 256\n",
    "sample_rate = 20\n",
    "lookbehind_seconds = 0\n",
    "lookahead_seconds = 0\n",
    "subsequence_stride = 256\n",
    "lookbehind = sample_rate * lookbehind_seconds\n",
    "num_outputs = 256\n",
    "lookahead = sample_rate * lookahead_seconds\n",
    "forward_sequences = lookahead + num_outputs\n",
    "subsequences_per_input = lookbehind + num_outputs + lookahead\n",
    "channel_stride = 8\n",
    "n_input_series = 1\n",
    "subsequences_per_input = subsequences_per_input // channel_stride\n",
    "high_weight = 1\n",
    "low_thresh = -1\n",
    "high_thresh = 1\n",
    "\n",
    "all_data = sio.loadmat('insect_no_classification.mat')\n",
    "\n",
    "mp_val = np.array(all_data['mp_val'])\n",
    "ts_val = np.array(all_data['ts_val'])\n",
    "#mp = np.zeros((len(ts_val) - matrix_profile_window + 1, 1))\n",
    "\n",
    "valid_gen = MPTimeseriesGenerator(ts_val, mp_val, num_input_timeseries=1, internal_stride=8, num_outputs=256,lookahead=forward_sequences, lookbehind=lookbehind, important_upper_threshold=high_thresh, important_lower_threshold=low_thresh, important_weight=high_weight, length=256, mp_window=256, stride=num_outputs, batch_size=128)\n",
    "\n",
    "a = valid_gen[8]\n",
    "\n",
    "x_test, y_test = a\n",
    "x_test = np.float32(x_test)\n",
    "\n",
    "data = x_test[0][np.newaxis,...]\n"
   ]
  },
  {
   "cell_type": "code",
   "execution_count": 5,
   "metadata": {},
   "outputs": [],
   "source": [
    "# batch normalization\n",
    "epsilon=1e-3\n",
    "\n",
    "N, C, H, W = data.shape\n",
    "# mini-batch mean\n",
    "mean = np.mean(data, axis=(0, 2, 3))\n",
    "# mini-batch variance\n",
    "variance = np.mean((data - mean.reshape((1, C, 1, 1))) ** 2, axis=(0, 2, 3))\n",
    "# normalize\n",
    "X_hat = (data - mean.reshape((1, C, 1, 1))) * 1.0 / np.sqrt(variance.reshape((1, C, 1, 1)) + epsilon)\n"
   ]
  },
  {
   "cell_type": "code",
   "execution_count": null,
   "metadata": {},
   "outputs": [],
   "source": [
    "#runs the kernel for lamp_0\n",
    "#TODO: is scale needed\n",
    "#scale = n2cube.dpuGetInputTensorScale(task, \"batch_normalization_1_FusedBatchNormV3_add\", 0)\n",
    "\n",
    "import time\n",
    "\n",
    "scale_in = n2cube.dpuGetInputTensorScale(task, \"conv2d_4_Conv2D\", 0)\n",
    "scale_out = n2cube.dpuGetOutputTensorScale(task, \"conv2d_12_Conv2D\", 0)\n",
    "\n",
    "print(scale_in)\n",
    "\n",
    "feed_data = data #/ scale_in\n",
    "#print(feed_data)\n",
    "\n",
    "input_len = n2cube.dpuGetInputTensorSize(task, \"conv2d_4_Conv2D\")\n",
    "\n",
    "n2cube.dpuSetInputTensorInHWCFP32(task, \"conv2d_1_Conv2D\", feed_data, input_len)\n",
    "n2cube.dpuSetInputTensorInHWCFP32(task, \"conv2d_4_Conv2D\", feed_data, input_len)\n",
    "\n",
    "n2cube.dpuRunTask(task)\n",
    "\n",
    "conv_sbbox_size = n2cube.dpuGetOutputTensorSize(task, \"conv2d_12_Conv2D\")\n",
    "conv_out1 = n2cube.dpuGetOutputTensorInHWCFP32(task, \"conv2d_12_Conv2D\", conv_sbbox_size)\n",
    "\n",
    "#print(conv_out1)    \n",
    "conv_out1 = np.reshape(conv_out1, (1, 256, 1, 192))\n",
    "\n",
    "#for i in range(256):\n",
    "#    print(conv_out1[0][i][0][2])\n"
   ]
  },
  {
   "cell_type": "code",
   "execution_count": 7,
   "metadata": {},
   "outputs": [
    {
     "name": "stdout",
     "output_type": "stream",
     "text": [
      "[[[[  0.00000000e+00   1.03906250e+00   2.34375000e-02   0.00000000e+00\n",
      "      0.00000000e+00   0.00000000e+00   6.98828125e+00   2.34375000e-02\n",
      "      0.00000000e+00   1.07070312e+01   5.78515625e+00   1.87539062e+01\n",
      "      2.05468750e+00   3.25625000e+01   0.00000000e+00   3.28906250e+00\n",
      "      1.70546875e+01   0.00000000e+00   2.49531250e+01   1.36367188e+01\n",
      "      3.27695312e+01   7.96093750e+00   0.00000000e+00   3.51562500e-02\n",
      "      2.10546875e+00   1.90273438e+01   9.83203125e+00   1.56250000e-02\n",
      "      1.12539062e+01   5.88671875e+00   1.97617188e+01   1.57382812e+01\n",
      "      0.00000000e+00   0.00000000e+00   3.17929688e+01   0.00000000e+00\n",
      "      2.49531250e+01   1.86601562e+01   0.00000000e+00   0.00000000e+00\n",
      "      0.00000000e+00   0.00000000e+00   3.19335938e+01   0.00000000e+00\n",
      "      0.00000000e+00   2.87500000e+00   0.00000000e+00   2.08632812e+01\n",
      "      3.17812500e+01   0.00000000e+00   3.90625000e-03   0.00000000e+00\n",
      "      1.18945312e+01   0.00000000e+00   7.81250000e-02   3.90625000e-03\n",
      "      8.73828125e+00   4.68750000e-02   0.00000000e+00   1.05859375e+00\n",
      "      2.48867188e+01   1.70625000e+01   1.99765625e+01   6.13281250e+00\n",
      "      0.00000000e+00   0.00000000e+00   5.94921875e+00   1.17187500e-02\n",
      "      5.85546875e+00   1.90859375e+01   2.66796875e+01   2.29765625e+01\n",
      "      1.00898438e+01   3.26484375e+01   0.00000000e+00   2.37382812e+01\n",
      "      2.87734375e+01   2.00859375e+01   0.00000000e+00   1.19375000e+01\n",
      "      8.10546875e+00   2.86796875e+01   2.07695312e+01   1.95312500e-02\n",
      "      3.85546875e+00   9.02343750e+00   2.34375000e-02   1.93750000e+00\n",
      "      0.00000000e+00   0.00000000e+00   6.00000000e+00   3.67773438e+01\n",
      "      0.00000000e+00   2.17617188e+01   3.90625000e-03   2.66093750e+01\n",
      "      1.97617188e+01   6.05078125e+00   0.00000000e+00   3.05468750e+00\n",
      "      1.10937500e+01   5.84375000e+00   0.00000000e+00   3.12500000e-02\n",
      "      1.78203125e+01   1.87343750e+01   2.49140625e+01   0.00000000e+00\n",
      "      3.51562500e-02   3.51562500e-02   2.14062500e+00   1.80156250e+01\n",
      "      1.95312500e-02   2.00000000e+01   7.89453125e+00   8.14062500e+00\n",
      "      2.98046875e+01   2.86445312e+01   0.00000000e+00   2.00664062e+01\n",
      "      0.00000000e+00   0.00000000e+00   0.00000000e+00   1.91171875e+01\n",
      "      0.00000000e+00   1.60742188e+01   7.14843750e+00   2.58593750e+01\n",
      "      0.00000000e+00   0.00000000e+00   4.97265625e+00   9.57031250e-01\n",
      "      1.90664062e+01   1.40625000e-01   1.71406250e+01   1.09765625e+00\n",
      "      0.00000000e+00   2.34375000e-02   1.39687500e+01   0.00000000e+00\n",
      "      2.59687500e+01   0.00000000e+00   2.76679688e+01   3.51562500e-02\n",
      "      2.68984375e+01   3.37304688e+01   0.00000000e+00   1.97656250e+00\n",
      "      3.90625000e-03   0.00000000e+00   1.89023438e+01   0.00000000e+00\n",
      "      2.28007812e+01   0.00000000e+00   2.20195312e+01   7.81250000e-02\n",
      "      2.34375000e-02   1.70820312e+01   8.75000000e+00   1.89804688e+01\n",
      "      0.00000000e+00   4.97265625e+00   3.08242188e+01   1.89375000e+01\n",
      "      1.49921875e+01   2.45859375e+01   2.28750000e+01   1.68164062e+01\n",
      "      2.07148438e+01   3.56992188e+01   2.38632812e+01   4.94531250e+00\n",
      "      1.69062500e+01   0.00000000e+00   0.00000000e+00   0.00000000e+00\n",
      "      1.20273438e+01   2.09765625e+00   2.10429688e+01   0.00000000e+00\n",
      "      0.00000000e+00   1.56250000e-02   2.85898438e+01   0.00000000e+00\n",
      "      2.20312500e+01   0.00000000e+00   3.76601562e+01   0.00000000e+00\n",
      "      3.26757812e+01   0.00000000e+00   0.00000000e+00   0.00000000e+00]]]]\n"
     ]
    }
   ],
   "source": [
    "out_scaled = conv_out1 / scale_out\n",
    "\n",
    "global_avg = np.apply_over_axes(np.mean, out_scaled, [1, 2])\n",
    "print(global_avg)"
   ]
  },
  {
   "cell_type": "code",
   "execution_count": 8,
   "metadata": {},
   "outputs": [
    {
     "data": {
      "text/plain": [
       "0"
      ]
     },
     "execution_count": 8,
     "metadata": {},
     "output_type": "execute_result"
    }
   ],
   "source": [
    "n2cube.dpuDestroyTask(task)\n",
    "n2cube.dpuDestroyKernel(kernel)\n"
   ]
  },
  {
   "cell_type": "code",
   "execution_count": 9,
   "metadata": {},
   "outputs": [],
   "source": [
    "# loads the second kernel for dense layer\n",
    "overlay.load_model(\"dpu_dense_2.elf\")\n",
    "\n",
    "n2cube.dpuOpen()\n",
    "kernel = n2cube.dpuLoadKernel(\"dense_2\")\n",
    "task = n2cube.dpuCreateTask(kernel, 0)\n"
   ]
  },
  {
   "cell_type": "code",
   "execution_count": 10,
   "metadata": {},
   "outputs": [
    {
     "name": "stdout",
     "output_type": "stream",
     "text": [
      "64.0\n",
      "0.03125\n",
      "[[[[ 0.40625  0.40625  0.375    0.4375   0.375    0.625    0.59375  0.375\n",
      "     0.46875  0.53125  0.46875  0.75     0.3125   0.40625  0.46875  0.28125\n",
      "     0.375    0.4375   0.28125  0.34375  0.4375   0.59375  0.40625  0.40625\n",
      "     0.375    0.5      0.34375  0.625    0.46875  0.25     0.34375  0.5\n",
      "     0.4375   0.4375   0.375    0.4375   0.5      0.34375  0.46875  0.34375\n",
      "     0.59375  0.46875  0.53125  0.4375   0.40625  0.59375  0.40625  0.375\n",
      "     0.5625   0.4375   0.53125  0.53125  0.53125  0.5625   0.46875  0.4375\n",
      "     0.5      0.5      0.5625   0.46875  0.4375   0.59375  0.5      0.53125\n",
      "     0.5625   0.46875  0.5      0.46875  0.4375   0.46875  0.5      0.59375\n",
      "     0.53125  0.625    0.4375   0.53125  0.5625   0.46875  0.46875  0.46875\n",
      "     0.5625   0.4375   0.59375  0.4375   0.5625   0.46875  0.4375   0.53125\n",
      "     0.375    0.625    0.53125  0.5      0.4375   0.53125  0.5      0.5\n",
      "     0.5625   0.4375   0.5625   0.625    0.625    0.46875  0.5625   0.34375\n",
      "     0.5625   0.5      0.5625   0.5      0.625    0.65625  0.59375  0.625\n",
      "     0.46875  0.53125  0.625    0.4375   0.375    0.5625   0.53125  0.59375\n",
      "     0.65625  0.5625   0.625    0.5625   0.5      0.40625  0.53125  0.375\n",
      "     0.5625   0.53125  0.5      0.4375   0.5625   0.5      0.625    0.5\n",
      "     0.53125  0.5625   0.46875  0.53125  0.5      0.4375   0.40625  0.5\n",
      "     0.46875  0.40625  0.5625   0.4375   0.53125  0.53125  0.5625   0.5\n",
      "     0.375    0.59375  0.59375  0.5      0.375    0.5      0.34375  0.34375\n",
      "     0.46875  0.65625  0.53125  0.375    0.375    0.375    0.40625  0.5625\n",
      "     0.46875  0.25     0.40625  0.46875  0.46875  0.375    0.28125  0.4375\n",
      "     0.375    0.46875  0.59375  0.4375   0.53125  0.4375   0.28125  0.46875\n",
      "     0.5      0.46875  0.375    0.375    0.375    0.4375   0.46875  0.625\n",
      "     0.6875   0.46875  0.53125  0.40625  0.34375  0.375    0.46875  0.40625\n",
      "     0.53125  0.46875  0.65625  0.4375   0.375    0.40625  0.5625   0.5\n",
      "     0.46875  0.46875  0.375    0.375    0.59375  0.5      0.5625   0.375\n",
      "     0.53125  0.34375  0.53125  0.4375   0.46875  0.375    0.46875  0.53125\n",
      "     0.3125   0.40625  0.3125   0.46875  0.53125  0.4375   0.5      0.40625\n",
      "     0.40625  0.40625  0.3125   0.28125  0.5      0.46875  0.375    0.5\n",
      "     0.375    0.375    0.53125  0.40625  0.40625  0.28125  0.46875  0.28125\n",
      "     0.34375  0.4375   0.4375   0.34375  0.40625  0.34375  0.4375   0.53125]]]]\n"
     ]
    }
   ],
   "source": [
    "# runs the second kernel for dense multiplicatoin\n",
    "\n",
    "scale_in = n2cube.dpuGetInputTensorScale(task, \"dense_1_MatMul\", 0)\n",
    "scale_out = n2cube.dpuGetOutputTensorScale(task, \"dense_1_MatMul\", 0)\n",
    "\n",
    "print(scale_in)\n",
    "print(scale_out)\n",
    "\n",
    "feed_input = global_avg / scale_in\n",
    "\n",
    "input_len = n2cube.dpuGetInputTensorSize(task, \"dense_1_MatMul\")\n",
    "n2cube.dpuSetInputTensorInHWCFP32(task, \"dense_1_MatMul\", feed_input, input_len)\n",
    "\n",
    "n2cube.dpuRunTask(task)\n",
    "\n",
    "conv_sbbox_size = n2cube.dpuGetOutputTensorSize(task, \"dense_1_MatMul\")\n",
    "conv_out1 = n2cube.dpuGetOutputTensorInHWCFP32(task, \"dense_1_MatMul\", conv_sbbox_size)\n",
    "\n",
    "conv_out1 = np.reshape(conv_out1, (1, 1, 1, 256))\n",
    "print (conv_out1)"
   ]
  },
  {
   "cell_type": "code",
   "execution_count": 11,
   "metadata": {},
   "outputs": [
    {
     "name": "stdout",
     "output_type": "stream",
     "text": [
      "[[[[ 0.99999774  0.99999774  0.9999938   0.99999917  0.9999938   1.          1.\n",
      "     0.9999938   0.99999964  1.          0.99999964  1.          0.99995458\n",
      "     0.99999774  0.99999964  0.99987662  0.9999938   0.99999917  0.99987662\n",
      "     0.99998331  0.99999917  1.          0.99999774  0.99999774  0.9999938\n",
      "     0.99999988  0.99998331  1.          0.99999964  0.99966466  0.99998331\n",
      "     0.99999988  0.99999917  0.99999917  0.9999938   0.99999917  0.99999988\n",
      "     0.99998331  0.99999964  0.99998331  1.          0.99999964  1.\n",
      "     0.99999917  0.99999774  1.          0.99999774  0.9999938   1.\n",
      "     0.99999917  1.          1.          1.          1.          0.99999964\n",
      "     0.99999917  0.99999988  0.99999988  1.          0.99999964  0.99999917\n",
      "     1.          0.99999988  1.          1.          0.99999964  0.99999988\n",
      "     0.99999964  0.99999917  0.99999964  0.99999988  1.          1.          1.\n",
      "     0.99999917  1.          1.          0.99999964  0.99999964  0.99999964\n",
      "     1.          0.99999917  1.          0.99999917  1.          0.99999964\n",
      "     0.99999917  1.          0.9999938   1.          1.          0.99999988\n",
      "     0.99999917  1.          0.99999988  0.99999988  1.          0.99999917\n",
      "     1.          1.          1.          0.99999964  1.          0.99998331\n",
      "     1.          0.99999988  1.          0.99999988  1.          1.          1.\n",
      "     1.          0.99999964  1.          1.          0.99999917  0.9999938\n",
      "     1.          1.          1.          1.          1.          1.          1.\n",
      "     0.99999988  0.99999774  1.          0.9999938   1.          1.\n",
      "     0.99999988  0.99999917  1.          0.99999988  1.          0.99999988\n",
      "     1.          1.          0.99999964  1.          0.99999988  0.99999917\n",
      "     0.99999774  0.99999988  0.99999964  0.99999774  1.          0.99999917\n",
      "     1.          1.          1.          0.99999988  0.9999938   1.          1.\n",
      "     0.99999988  0.9999938   0.99999988  0.99998331  0.99998331  0.99999964\n",
      "     1.          1.          0.9999938   0.9999938   0.9999938   0.99999774\n",
      "     1.          0.99999964  0.99966466  0.99999774  0.99999964  0.99999964\n",
      "     0.9999938   0.99987662  0.99999917  0.9999938   0.99999964  1.\n",
      "     0.99999917  1.          0.99999917  0.99987662  0.99999964  0.99999988\n",
      "     0.99999964  0.9999938   0.9999938   0.9999938   0.99999917  0.99999964\n",
      "     1.          1.          0.99999964  1.          0.99999774  0.99998331\n",
      "     0.9999938   0.99999964  0.99999774  1.          0.99999964  1.\n",
      "     0.99999917  0.9999938   0.99999774  1.          0.99999988  0.99999964\n",
      "     0.99999964  0.9999938   0.9999938   1.          0.99999988  1.\n",
      "     0.9999938   1.          0.99998331  1.          0.99999917  0.99999964\n",
      "     0.9999938   0.99999964  1.          0.99995458  0.99999774  0.99995458\n",
      "     0.99999964  1.          0.99999917  0.99999988  0.99999774  0.99999774\n",
      "     0.99999774  0.99995458  0.99987662  0.99999988  0.99999964  0.9999938\n",
      "     0.99999988  0.9999938   0.9999938   1.          0.99999774  0.99999774\n",
      "     0.99987662  0.99999964  0.99987662  0.99998331  0.99999917  0.99999917\n",
      "     0.99998331  0.99999774  0.99998331  0.99999917  1.        ]]]]\n"
     ]
    }
   ],
   "source": [
    "out_scaled = conv_out1 / scale_out\n",
    "sigmoid_out = 1/(1 + np.exp(-out_scaled)) \n",
    "print(sigmoid_out)"
   ]
  },
  {
   "cell_type": "code",
   "execution_count": 12,
   "metadata": {},
   "outputs": [
    {
     "name": "stdout",
     "output_type": "stream",
     "text": [
      "5.03519071538\n"
     ]
    }
   ],
   "source": [
    "y = y_test[0]\n",
    "y.reshape(1, 256)\n",
    "\n",
    "sigmoid_out.reshape(1, 256)\n",
    "\n",
    "print(np.mean(np.abs((sigmoid_out - y) / sigmoid_out)) * 100)\n"
   ]
  },
  {
   "cell_type": "code",
   "execution_count": 13,
   "metadata": {
    "scrolled": true
   },
   "outputs": [
    {
     "data": {
      "text/plain": [
       "0"
      ]
     },
     "execution_count": 13,
     "metadata": {},
     "output_type": "execute_result"
    }
   ],
   "source": [
    "n2cube.dpuDestroyTask(task)\n",
    "n2cube.dpuDestroyKernel(kernel)"
   ]
  },
  {
   "cell_type": "code",
   "execution_count": 94,
   "metadata": {},
   "outputs": [
    {
     "name": "stdout",
     "output_type": "stream",
     "text": [
      "1\n"
     ]
    },
    {
     "ename": "NameError",
     "evalue": "name 'kernel2' is not defined",
     "output_type": "error",
     "traceback": [
      "\u001b[0;31m---------------------------------------------------------------------------\u001b[0m",
      "\u001b[0;31mNameError\u001b[0m                                 Traceback (most recent call last)",
      "\u001b[0;32m<ipython-input-94-70c15fc76830>\u001b[0m in \u001b[0;36m<module>\u001b[0;34m()\u001b[0m\n\u001b[1;32m     34\u001b[0m         \u001b[0mprint\u001b[0m\u001b[0;34m(\u001b[0m\u001b[0;34m\"1\"\u001b[0m\u001b[0;34m)\u001b[0m\u001b[0;34m\u001b[0m\u001b[0m\n\u001b[1;32m     35\u001b[0m     \u001b[0;32melse\u001b[0m\u001b[0;34m:\u001b[0m\u001b[0;34m\u001b[0m\u001b[0m\n\u001b[0;32m---> 36\u001b[0;31m         \u001b[0mt1\u001b[0m \u001b[0;34m=\u001b[0m \u001b[0mthreading\u001b[0m\u001b[0;34m.\u001b[0m\u001b[0mThread\u001b[0m\u001b[0;34m(\u001b[0m\u001b[0mtarget\u001b[0m\u001b[0;34m=\u001b[0m\u001b[0mrun_dpu_task\u001b[0m\u001b[0;34m,\u001b[0m \u001b[0margs\u001b[0m\u001b[0;34m=\u001b[0m\u001b[0;34m(\u001b[0m\u001b[0mkernel2\u001b[0m\u001b[0;34m,\u001b[0m \u001b[0mi\u001b[0m\u001b[0;34m)\u001b[0m\u001b[0;34m)\u001b[0m\u001b[0;34m\u001b[0m\u001b[0m\n\u001b[0m\u001b[1;32m     37\u001b[0m         \u001b[0mprint\u001b[0m\u001b[0;34m(\u001b[0m\u001b[0;34m\"2\"\u001b[0m\u001b[0;34m)\u001b[0m\u001b[0;34m\u001b[0m\u001b[0m\n\u001b[1;32m     38\u001b[0m \u001b[0;34m\u001b[0m\u001b[0m\n",
      "\u001b[0;31mNameError\u001b[0m: name 'kernel2' is not defined"
     ]
    }
   ],
   "source": [
    "def run_dpu_task(kernel, index):\n",
    "    task = n2cube.dpuCreateTask(kernel, 0)\n",
    "    \n",
    "    scale_in = n2cube.dpuGetInputTensorScale(task, \"conv2d_4_Conv2D\", 0)\n",
    "    scale_out = n2cube.dpuGetOutputTensorScale(task, \"conv2d_12_Conv2D\", 0)\n",
    "    a = valid_gen[0]\n",
    "\n",
    "    x_test, y_test = a\n",
    "    x_test = np.float32(x_test)\n",
    "\n",
    "    data = x_test[0][np.newaxis,...]\n",
    "    feed_data = data / scale_in\n",
    "    for i in range(4):\n",
    "\n",
    "        \n",
    "\n",
    "        input_len = n2cube.dpuGetInputTensorSize(task, \"conv2d_4_Conv2D\")\n",
    "        n2cube.dpuSetInputTensorInHWCFP32(task, \"conv2d_4_Conv2D\", feed_data, input_len)\n",
    "        n2cube.dpuSetInputTensorInHWCFP32(task, \"conv2d_1_Conv2D\", feed_data, input_len)\n",
    "\n",
    "        n2cube.dpuRunTask(task)\n",
    "\n",
    "        conv_sbbox_size = n2cube.dpuGetOutputTensorSize(task, \"conv2d_12_Conv2D\")\n",
    "        conv_out1 = n2cube.dpuGetOutputTensorInHWCFP32(task, \"conv2d_12_Conv2D\", conv_sbbox_size)\n",
    "    \n",
    "    n2cube.dpuDestroyTask(task)\n",
    "\n",
    "threadnum = 8\n",
    "threadAll = []\n",
    "\n",
    "for i in range(threadnum):\n",
    "    if i%2 == 0:\n",
    "        t1 = threading.Thread(target=run_dpu_task, args=(kernel, i))\n",
    "        print(\"1\")\n",
    "    else:\n",
    "        t1 = threading.Thread(target=run_dpu_task, args=(kernel2, i))\n",
    "        print(\"2\")\n",
    "        \n",
    "    threadAll.append(t1)\n",
    "for x in threadAll:\n",
    "    x.start()\n",
    "for x in threadAll:\n",
    "    x.join()\n",
    "    \n",
    "n2cube.dpuDestroyKernel(kernel)\n",
    "n2cube.dpuDestroyKernel(kernel)\n"
   ]
  },
  {
   "cell_type": "code",
   "execution_count": null,
   "metadata": {},
   "outputs": [],
   "source": [
    "'''\n",
    "start = time.time()\n",
    "\n",
    "for i in range(10):\n",
    "\n",
    "    a = valid_gen[i]\n",
    "\n",
    "    x_test, y_test = a\n",
    "    x_test = np.float32(x_test)\n",
    "\n",
    "    data = x_test[0][np.newaxis,...]\n",
    "    feed_data = data / scale_in\n",
    "\n",
    "\n",
    "    input_len = n2cube.dpuGetInputTensorSize(task, \"conv2d_4_Conv2D\")\n",
    "    n2cube.dpuSetInputTensorInHWCFP32(task, \"conv2d_4_Conv2D\", feed_data, input_len)\n",
    "    n2cube.dpuSetInputTensorInHWCFP32(task, \"conv2d_1_Conv2D\", feed_data, input_len)\n",
    "\n",
    "    n2cube.dpuRunTask(task)\n",
    "\n",
    "    conv_sbbox_size = n2cube.dpuGetOutputTensorSize(task, \"conv2d_12_Conv2D\")\n",
    "    conv_out1 = n2cube.dpuGetOutputTensorInHWCFP32(task, \"conv2d_12_Conv2D\", conv_sbbox_size)\n",
    "\n",
    "end = time.time()\n",
    "print(end - start)\n",
    "'''"
   ]
  }
 ],
 "metadata": {
  "kernelspec": {
   "display_name": "Python 3",
   "language": "python",
   "name": "python3"
  },
  "language_info": {
   "codemirror_mode": {
    "name": "ipython",
    "version": 3
   },
   "file_extension": ".py",
   "mimetype": "text/x-python",
   "name": "python",
   "nbconvert_exporter": "python",
   "pygments_lexer": "ipython3",
   "version": "3.6.5"
  }
 },
 "nbformat": 4,
 "nbformat_minor": 4
}
